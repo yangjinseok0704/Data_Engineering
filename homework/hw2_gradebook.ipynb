{
 "cells": [
  {
   "cell_type": "code",
   "execution_count": 1,
   "id": "96aa7b3b-6ed5-420d-9eca-24e1a59e22d7",
   "metadata": {},
   "outputs": [],
   "source": [
    "subjects = [\"physics\", \"calculus\", \"poetry\", \"history\"]"
   ]
  },
  {
   "cell_type": "code",
   "execution_count": 2,
   "id": "da9ec9fb-e2bf-43cc-a705-f4a407d51214",
   "metadata": {},
   "outputs": [],
   "source": [
    "grades = [98, 97, 85, 88]"
   ]
  },
  {
   "cell_type": "code",
   "execution_count": 3,
   "id": "991d114e-9302-43f8-b7f0-867692c83d48",
   "metadata": {},
   "outputs": [],
   "source": [
    "gradebook = [['physics', 98],['calculus', 97], ['poetry', 85], ['history', 88]]"
   ]
  },
  {
   "cell_type": "code",
   "execution_count": 4,
   "id": "872c6e2d-1b2d-4a23-ab83-f2b74be3a53d",
   "metadata": {},
   "outputs": [
    {
     "name": "stdout",
     "output_type": "stream",
     "text": [
      "[['physics', 98], ['calculus', 97], ['poetry', 85], ['history', 88]]\n"
     ]
    }
   ],
   "source": [
    "print(gradebook)"
   ]
  },
  {
   "cell_type": "code",
   "execution_count": 5,
   "id": "5c17fef2-4d03-40ef-963a-54845432fb24",
   "metadata": {},
   "outputs": [],
   "source": [
    "gradebook.append(['computer science', 100])"
   ]
  },
  {
   "cell_type": "code",
   "execution_count": 6,
   "id": "4d2fab23-7f18-4126-ba06-9f15d8926ea3",
   "metadata": {},
   "outputs": [],
   "source": [
    "gradebook.append(['visual arts', 93])"
   ]
  },
  {
   "cell_type": "code",
   "execution_count": 7,
   "id": "23ac1931-9719-42e3-8160-136342e24501",
   "metadata": {},
   "outputs": [
    {
     "name": "stdout",
     "output_type": "stream",
     "text": [
      "[['physics', 98], ['calculus', 97], ['poetry', 85], ['history', 88], ['computer science', 100], ['visual arts', 93]]\n"
     ]
    }
   ],
   "source": [
    "print(gradebook)"
   ]
  },
  {
   "cell_type": "code",
   "execution_count": 8,
   "id": "761c701f-dc59-4366-ae54-a9f2fa030b92",
   "metadata": {},
   "outputs": [],
   "source": [
    "gradebook[5][1] = 98"
   ]
  },
  {
   "cell_type": "code",
   "execution_count": 9,
   "id": "0022ecce-6c94-4329-b382-eb4555ec8ecf",
   "metadata": {},
   "outputs": [],
   "source": [
    "poetry = gradebook[2]"
   ]
  },
  {
   "cell_type": "code",
   "execution_count": 10,
   "id": "cadc71e6-afe3-4235-ab78-ee1ac98b5392",
   "metadata": {},
   "outputs": [],
   "source": [
    "poetry.remove(85)"
   ]
  },
  {
   "cell_type": "code",
   "execution_count": 11,
   "id": "7b8e7fb7-3099-4ef5-83e0-cdb6cb4bff38",
   "metadata": {},
   "outputs": [],
   "source": [
    "poetry.append('Pass')"
   ]
  },
  {
   "cell_type": "code",
   "execution_count": 13,
   "id": "d1ba3c21-952f-4e0b-80c3-305e64bba00c",
   "metadata": {},
   "outputs": [
    {
     "name": "stdout",
     "output_type": "stream",
     "text": [
      "[['physics', 98], ['calculus', 97], ['poetry', 'Pass'], ['history', 88], ['computer science', 100], ['visual arts', 98]]\n"
     ]
    }
   ],
   "source": [
    "print(gradebook)"
   ]
  },
  {
   "cell_type": "code",
   "execution_count": 15,
   "id": "b6645311-b8a0-4093-b681-1ffeae5b461e",
   "metadata": {},
   "outputs": [],
   "source": [
    "last_semester_gradebook = [['politics', 80], ['latin', 96], ['dance', 97], ['architecture', 65]]"
   ]
  },
  {
   "cell_type": "code",
   "execution_count": 16,
   "id": "d66e0ef6-dd57-431f-8e8b-daf7eca33421",
   "metadata": {},
   "outputs": [],
   "source": [
    "full_gradebook = last_semester_gradebook + gradebook"
   ]
  },
  {
   "cell_type": "code",
   "execution_count": 17,
   "id": "0bede4b7-af1f-4434-abec-14bf43aba787",
   "metadata": {},
   "outputs": [
    {
     "name": "stdout",
     "output_type": "stream",
     "text": [
      "[['politics', 80], ['latin', 96], ['dance', 97], ['architecture', 65], ['physics', 98], ['calculus', 97], ['poetry', 'Pass'], ['history', 88], ['computer science', 100], ['visual arts', 98]]\n"
     ]
    }
   ],
   "source": [
    "print(full_gradebook)"
   ]
  }
 ],
 "metadata": {
  "kernelspec": {
   "display_name": "Python 3 (ipykernel)",
   "language": "python",
   "name": "python3"
  },
  "language_info": {
   "codemirror_mode": {
    "name": "ipython",
    "version": 3
   },
   "file_extension": ".py",
   "mimetype": "text/x-python",
   "name": "python",
   "nbconvert_exporter": "python",
   "pygments_lexer": "ipython3",
   "version": "3.10.9"
  }
 },
 "nbformat": 4,
 "nbformat_minor": 5
}
