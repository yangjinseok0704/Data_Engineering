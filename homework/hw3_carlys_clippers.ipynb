{
 "cells": [
  {
   "cell_type": "code",
   "execution_count": 1,
   "id": "d365e208-0506-49ae-b2f9-4bc16575c58b",
   "metadata": {
    "tags": []
   },
   "outputs": [],
   "source": [
    "hairstyles = [\"bouffant\", \"pixie\", \"dreadlocks\", \"crew\", \"bowl\", \"bob\", \"mohawk\", \"flattop\"]"
   ]
  },
  {
   "cell_type": "code",
   "execution_count": 2,
   "id": "df369fd0-aed0-4175-b61a-b73132d08d6a",
   "metadata": {},
   "outputs": [],
   "source": [
    "prices = [30, 25, 40, 20, 20, 35, 50, 35]"
   ]
  },
  {
   "cell_type": "code",
   "execution_count": 3,
   "id": "95d04116-741c-4b0d-a892-82e75eddbde2",
   "metadata": {},
   "outputs": [],
   "source": [
    "last_week = [2, 3, 5, 8, 4, 4, 6, 2]"
   ]
  },
  {
   "cell_type": "code",
   "execution_count": 4,
   "id": "c5e7409b-57a5-4642-a452-ac04c9208c26",
   "metadata": {},
   "outputs": [],
   "source": [
    "total_price = 0"
   ]
  },
  {
   "cell_type": "code",
   "execution_count": 5,
   "id": "781d8128-b122-412f-b6a7-806100191861",
   "metadata": {},
   "outputs": [],
   "source": [
    "for i in prices:\n",
    "    total_price += i"
   ]
  },
  {
   "cell_type": "code",
   "execution_count": 6,
   "id": "a3be89e0-fd3d-4355-a57c-46962a93ae58",
   "metadata": {},
   "outputs": [],
   "source": [
    "average_price = total_price/len(prices)"
   ]
  },
  {
   "cell_type": "code",
   "execution_count": 7,
   "id": "3ab3dab7-836d-4d8c-bd28-b607ef6f087a",
   "metadata": {},
   "outputs": [
    {
     "name": "stdout",
     "output_type": "stream",
     "text": [
      "Average price is 31.875\n"
     ]
    }
   ],
   "source": [
    "print(\"Average price is\", average_price)"
   ]
  },
  {
   "cell_type": "code",
   "execution_count": 8,
   "id": "fb085912-072b-479d-beb4-42d4e794301f",
   "metadata": {},
   "outputs": [],
   "source": [
    "new_prices = [i - 5 for i in prices]"
   ]
  },
  {
   "cell_type": "code",
   "execution_count": 9,
   "id": "26c620c9-aa40-4c50-bb37-f84b7b4c47bb",
   "metadata": {},
   "outputs": [
    {
     "name": "stdout",
     "output_type": "stream",
     "text": [
      "[25, 20, 35, 15, 15, 30, 45, 30]\n"
     ]
    }
   ],
   "source": [
    "print(new_prices)"
   ]
  },
  {
   "cell_type": "code",
   "execution_count": 10,
   "id": "ef5b09c9-9658-4f53-aca5-d219d104857d",
   "metadata": {},
   "outputs": [],
   "source": [
    "total_revenue = 0"
   ]
  },
  {
   "cell_type": "code",
   "execution_count": 11,
   "id": "557df6b1-01da-4eec-9dab-71833bc4d018",
   "metadata": {},
   "outputs": [],
   "source": [
    "for i in range(len(hairstyles)):\n",
    "    total_revenue += (prices[i] * last_week[i])"
   ]
  },
  {
   "cell_type": "code",
   "execution_count": 12,
   "id": "9a02c95d-5297-466a-b37a-9439aa704590",
   "metadata": {},
   "outputs": [
    {
     "name": "stdout",
     "output_type": "stream",
     "text": [
      "1085\n"
     ]
    }
   ],
   "source": [
    "print(total_revenue)"
   ]
  },
  {
   "cell_type": "code",
   "execution_count": 13,
   "id": "bdf2f6cd-3088-4525-b19b-7c3d5e57fab2",
   "metadata": {},
   "outputs": [],
   "source": [
    "average_daily_revenue = total_revenue/7"
   ]
  },
  {
   "cell_type": "code",
   "execution_count": 14,
   "id": "9cdb9bdc-c3f2-43e8-a5cd-b1b64d68aea0",
   "metadata": {},
   "outputs": [
    {
     "name": "stdout",
     "output_type": "stream",
     "text": [
      "155.0\n"
     ]
    }
   ],
   "source": [
    "print(average_daily_revenue)"
   ]
  },
  {
   "cell_type": "code",
   "execution_count": 15,
   "id": "93675055-4648-4fa8-ab85-4c57308e6f3a",
   "metadata": {},
   "outputs": [
    {
     "name": "stdout",
     "output_type": "stream",
     "text": [
      "Average daily revenue is 155.0\n"
     ]
    }
   ],
   "source": [
    "print(\"Average daily revenue is\", average_daily_revenue)"
   ]
  },
  {
   "cell_type": "code",
   "execution_count": 16,
   "id": "9c294f39-b66b-4fa1-b35b-6e8b0efe8704",
   "metadata": {},
   "outputs": [],
   "source": [
    "cuts_under_30 = [hairstyles[i] for i in range(len(new_prices) -1) if new_prices[i] < 30]"
   ]
  },
  {
   "cell_type": "code",
   "execution_count": 17,
   "id": "f1e063dd-7ac5-45b5-803b-35cf3800249b",
   "metadata": {},
   "outputs": [
    {
     "name": "stdout",
     "output_type": "stream",
     "text": [
      "['bouffant', 'pixie', 'crew', 'bowl']\n"
     ]
    }
   ],
   "source": [
    "print(cuts_under_30)"
   ]
  }
 ],
 "metadata": {
  "kernelspec": {
   "display_name": "Python 3 (ipykernel)",
   "language": "python",
   "name": "python3"
  },
  "language_info": {
   "codemirror_mode": {
    "name": "ipython",
    "version": 3
   },
   "file_extension": ".py",
   "mimetype": "text/x-python",
   "name": "python",
   "nbconvert_exporter": "python",
   "pygments_lexer": "ipython3",
   "version": "3.10.9"
  }
 },
 "nbformat": 4,
 "nbformat_minor": 5
}
