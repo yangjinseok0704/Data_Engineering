{
 "cells": [
  {
   "cell_type": "code",
   "execution_count": 1,
   "id": "e20698fe-12b3-46e4-89df-f8d974d07a6f",
   "metadata": {},
   "outputs": [],
   "source": [
    "def get_my_chosun_name(family_name, month, day):\n",
    "    m =['쌍', '쇠', '복', '돌', '팽', '육', '쌍', '개', '칠', '갑', '삼', '방']\n",
    "    d =['봉', '구', '욕', '포', '똥', '삼', '식', '석', '놈', '님', '년', '돌', '단', '득', '방', '질', '장', '걸', '래', '룡', '동', '순', '자', '박', '창', '언', '것', '포', '만', '단', '국']\n",
    "    return family_name + m[month-1] + d[day-1]"
   ]
  },
  {
   "cell_type": "code",
   "execution_count": 2,
   "id": "3b7dbdf1-0092-4058-bedd-ebcba79bb2cd",
   "metadata": {},
   "outputs": [
    {
     "name": "stdout",
     "output_type": "stream",
     "text": [
      "당신의 조선시대 이름은 양쌍포입니다\n"
     ]
    }
   ],
   "source": [
    "print(\"당신의 조선시대 이름은 \" + get_my_chosun_name('양', 7, 4) + \"입니다\")"
   ]
  }
 ],
 "metadata": {
  "kernelspec": {
   "display_name": "Python 3 (ipykernel)",
   "language": "python",
   "name": "python3"
  },
  "language_info": {
   "codemirror_mode": {
    "name": "ipython",
    "version": 3
   },
   "file_extension": ".py",
   "mimetype": "text/x-python",
   "name": "python",
   "nbconvert_exporter": "python",
   "pygments_lexer": "ipython3",
   "version": "3.10.9"
  }
 },
 "nbformat": 4,
 "nbformat_minor": 5
}
